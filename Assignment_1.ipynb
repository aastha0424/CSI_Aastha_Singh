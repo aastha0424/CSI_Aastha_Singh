{
 "cells": [
  {
   "cell_type": "markdown",
   "id": "6522332c",
   "metadata": {},
   "source": [
    "Lower Triangular Pattern"
   ]
  },
  {
   "cell_type": "code",
   "execution_count": 7,
   "id": "21bb2e49",
   "metadata": {},
   "outputs": [
    {
     "name": "stdout",
     "output_type": "stream",
     "text": [
      "*\n",
      "**\n",
      "***\n",
      "****\n",
      "*****\n"
     ]
    }
   ],
   "source": [
    "n = 5\n",
    "for i in range(1 , n+1):\n",
    "    print('*' * i)\n"
   ]
  },
  {
   "cell_type": "markdown",
   "id": "4faeb71d",
   "metadata": {},
   "source": [
    "Upper Triangular Pattern"
   ]
  },
  {
   "cell_type": "code",
   "execution_count": 6,
   "id": "269f39df",
   "metadata": {},
   "outputs": [
    {
     "name": "stdout",
     "output_type": "stream",
     "text": [
      "*****\n",
      "****\n",
      "***\n",
      "**\n",
      "*\n"
     ]
    }
   ],
   "source": [
    "n = 5\n",
    "for i in range(n , 0 , -1):\n",
    "    print('*' * i)"
   ]
  },
  {
   "cell_type": "markdown",
   "id": "eb59ea8e",
   "metadata": {},
   "source": [
    "Pyramid Pattern"
   ]
  },
  {
   "cell_type": "code",
   "execution_count": 1,
   "id": "1e7869c8",
   "metadata": {},
   "outputs": [
    {
     "name": "stdout",
     "output_type": "stream",
     "text": [
      "    *\n",
      "   ***\n",
      "  *****\n",
      " *******\n",
      "*********\n"
     ]
    }
   ],
   "source": [
    "n = 5  # total number of rows\n",
    "\n",
    "for i in range(1, n + 1):\n",
    "    spaces = n - i\n",
    "    stars = 2 * i - 1\n",
    "    print(' ' * spaces + '*' * stars)\n"
   ]
  }
 ],
 "metadata": {
  "kernelspec": {
   "display_name": "base",
   "language": "python",
   "name": "python3"
  },
  "language_info": {
   "codemirror_mode": {
    "name": "ipython",
    "version": 3
   },
   "file_extension": ".py",
   "mimetype": "text/x-python",
   "name": "python",
   "nbconvert_exporter": "python",
   "pygments_lexer": "ipython3",
   "version": "3.11.5"
  }
 },
 "nbformat": 4,
 "nbformat_minor": 5
}
